{
 "cells": [
  {
   "cell_type": "code",
   "execution_count": 128,
   "id": "d79468b3",
   "metadata": {},
   "outputs": [],
   "source": [
    "import math\n",
    "from sklearn.metrics import mean_absolute_error , mean_squared_error  , root_mean_squared_error , r2_score\n",
    "import numpy as np"
   ]
  },
  {
   "cell_type": "code",
   "execution_count": 147,
   "id": "4a0b0460",
   "metadata": {},
   "outputs": [
    {
     "name": "stdout",
     "output_type": "stream",
     "text": [
      "MAE: 3.0\n",
      "MSE: 11.0\n",
      "RMSE: 3.3166247903554\n",
      "RMSE: 3.3166247903554\n",
      "R2: -4.5\n",
      "0.88\n",
      "0.00\n",
      "0.76\n",
      "1.00\n",
      "-------------------------\n",
      "MAE FROM SKLEARN 3.0\n",
      "MSE FROM SKLEARN 11.0\n",
      "RMSE FROM SKLEARN 3.3166247903554\n",
      "R2 FROM SKLEARN -4.5\n"
     ]
    }
   ],
   "source": [
    "class Solution():\n",
    "    def __init__(self):\n",
    "        pass\n",
    "    def mae(self , y_true , y_pred )->float:\n",
    "        if len(y_true) != len(y_pred):\n",
    "             self.error()\n",
    "        somma = 0\n",
    "        for i in range(len(y_true)):  \n",
    "            somma += abs(y_true[i] - y_pred[i])\n",
    "        return somma / len(y_true)\n",
    "    def mse(self , y_true , y_pred )-> float:\n",
    "        if len(y_true) != len(y_pred):\n",
    "            self.error()\n",
    "        somma = 0\n",
    "        for i in range(len(y_true)):  \n",
    "            somma += (y_true[i] - y_pred[i])**2\n",
    "        return somma / len(y_true)\n",
    "    def rmse(self ,  y_true, y_pred )->float:\n",
    "        if len(y_true) != len(y_pred):\n",
    "             self.error()\n",
    "        somma =  0\n",
    "        for i in range(len(y_true)):\n",
    "            somma+=(y_true[i] - y_pred[i]) **2\n",
    "        return (somma / len(y_true))**0.5\n",
    "    \n",
    "    def r2squared(self , y_true , y_pred) -> float:\n",
    "        if len(y_true) != len(y_pred):\n",
    "            self.error()\n",
    "          \n",
    "        s_res = sum((y_true[i] - y_pred[i])**2 for i in range(len(y_true)))\n",
    "           \n",
    "        y_mean = sum(y_true) / len(y_true)\n",
    "            \n",
    "        s_tot = sum((y_true[i] - y_mean)**2 for i in range(len(y_true)))\n",
    "        return 1 - s_res / s_tot if s_tot != 0 else 0\n",
    "       \n",
    "    def sigmoide(self , y_true):\n",
    "        return 1 / (1 + np.exp(-y_true))\n",
    "    \n",
    "    def relu(self , y_true):\n",
    "        return np.maximum(0 , y_true)\n",
    "    def tanh(self , y_true):\n",
    "        return np.tanh(y_true)\n",
    "    def softmax(self , y_true):\n",
    "        exp = np.exp(y_true  - np.max(y_true))\n",
    "        return exp / np.sum(exp)\n",
    "    def error(self):\n",
    "        raise ValueError( 'Ambiguita')\n",
    "    \n",
    "a, b = np.array([1, 2, 3, 4, 5]), np.array([2, 4, 6, 8, 10])\n",
    "soluzione = Solution()\n",
    "print(f\"MAE: {soluzione.mae(a, b)}\")   \n",
    "print(f\"MSE: {soluzione.mse(a, b)}\")  \n",
    "print(f\"RMSE: {soluzione.rmse(a, b)}\")\n",
    "print(f\"RMSE: {soluzione.rmse(a, b)}\")\n",
    "print(f\"R2: {soluzione.r2squared(a, b)}\")\n",
    "print(f\"{soluzione.sigmoide(2):.2f}\")\n",
    "print(f\"{soluzione.relu(-3):.2f}\")\n",
    "print(f\"{soluzione.tanh(1):.2f}\")\n",
    "print(f\"{soluzione.softmax(1):.2f}\")\n",
    "\n",
    "\n",
    "\n",
    "print('-' *25)\n",
    "print('MAE FROM SKLEARN',mean_absolute_error(a , b))\n",
    "print('MSE FROM SKLEARN',mean_squared_error(a , b))\n",
    "print('RMSE FROM SKLEARN',root_mean_squared_error(a , b))\n",
    "print('R2 FROM SKLEARN',r2_score(a , b))\n",
    "\n",
    "\n",
    "\n",
    "    \n",
    "            \n",
    "\n",
    "\n"
   ]
  },
  {
   "cell_type": "code",
   "execution_count": null,
   "id": "ea58764a",
   "metadata": {},
   "outputs": [],
   "source": [
    "\n"
   ]
  }
 ],
 "metadata": {
  "kernelspec": {
   "display_name": "Python 3",
   "language": "python",
   "name": "python3"
  },
  "language_info": {
   "codemirror_mode": {
    "name": "ipython",
    "version": 3
   },
   "file_extension": ".py",
   "mimetype": "text/x-python",
   "name": "python",
   "nbconvert_exporter": "python",
   "pygments_lexer": "ipython3",
   "version": "3.12.5"
  }
 },
 "nbformat": 4,
 "nbformat_minor": 5
}
